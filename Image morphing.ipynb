{
 "cells": [
  {
   "cell_type": "code",
   "execution_count": 101,
   "metadata": {},
   "outputs": [],
   "source": [
    "import cv2\n",
    "import numpy as np\n",
    "import dlib\n",
    "import matplotlib.pyplot as plt\n",
    "from scipy.spatial import Delaunay\n",
    "import imageio\n",
    "\n",
    "detector = dlib.get_frontal_face_detector()\n",
    "predictor = dlib.shape_predictor(\"shape_predictor_68_face_landmarks.dat\")\n",
    "img1 = cv2.imread(\"img1.jpeg\")\n",
    "img4 = cv2.imread(\"img1.jpeg\")\n",
    "img1=cv2.resize(img1,(300,400),interpolation =cv2.INTER_NEAREST)\n",
    "img4=cv2.resize(img4,(300,400),interpolation =cv2.INTER_NEAREST)\n",
    "gray = cv2.cvtColor(src=img1,code=cv2.COLOR_BGR2GRAY)\n",
    "arr1=[[0,0],[img1.shape[1],img1.shape[0]],[img1.shape[1],0],[0,img1.shape[0]]]\n",
    "faces = detector(gray)\n",
    "for face in faces:\n",
    "    x1 = face.left() \n",
    "    y1 = face.top() \n",
    "    x2 = face.right() \n",
    "    y2 = face.bottom() \n",
    "    landmarks = predictor(image=gray, box=face)\n",
    "    for n in range(0, 68):\n",
    "        x = landmarks.part(n).x\n",
    "        y = landmarks.part(n).y\n",
    "        arr1.append((int(x),int(y)))"
   ]
  },
  {
   "cell_type": "code",
   "execution_count": 102,
   "metadata": {},
   "outputs": [],
   "source": [
    "img2 = cv2.imread(\"img2.jpeg\")\n",
    "img3 = cv2.imread(\"img2.jpeg\")\n",
    "img2=cv2.resize(img2,(300,400),interpolation =cv2.INTER_NEAREST)\n",
    "img3=cv2.resize(img3,(300,400),interpolation =cv2.INTER_NEAREST)\n",
    "gray2 = cv2.cvtColor(src=img2, code=cv2.COLOR_BGR2GRAY)\n",
    "arr2=[[0,0],[img2.shape[1],img2.shape[0]],[img2.shape[1],0],[0,img2.shape[0]]]\n",
    "faces = detector(gray2)\n",
    "for face in faces:\n",
    "    x1 = face.left() \n",
    "    y1 = face.top() \n",
    "    x2 = face.right() \n",
    "    y2 = face.bottom() \n",
    "    landmarks = predictor(image=gray2, box=face)\n",
    "    for n in range(0, 68):\n",
    "        x = landmarks.part(n).x\n",
    "        y = landmarks.part(n).y\n",
    "        arr2.append((int(x),int(y)))"
   ]
  },
  {
   "cell_type": "code",
   "execution_count": 103,
   "metadata": {},
   "outputs": [],
   "source": [
    "points=np.array(arr1)\n",
    "tri = Delaunay(points)\n",
    "arr_d=tri.simplices"
   ]
  },
  {
   "cell_type": "code",
   "execution_count": 104,
   "metadata": {},
   "outputs": [],
   "source": [
    "def fun(alpha,img1,img2,arr1,arr2,arr_d):\n",
    "    arr5=[]\n",
    "    newimg1=np.zeros(img2.shape,dtype=np.uint8)\n",
    "    for i in range(len(arr1)):\n",
    "        arr5.append((int(((1-alpha)*arr1[i][0]+alpha*arr2[i][0])),int((1-alpha)*arr1[i][1]+alpha*arr2[i][1])))\n",
    "    new_img=np.zeros(img1.shape)\n",
    "    \n",
    "    for i in range(len(arr_d)):\n",
    "        a=arr_d[i][0]\n",
    "        b=arr_d[i][1]\n",
    "        c=arr_d[i][2]\n",
    "        pts1=np.float32([arr1[a],arr1[b],arr1[c]])\n",
    "        pts=np.float32([arr5[a],arr5[b],arr5[c]])\n",
    "        pts2=np.float32([arr2[a],arr2[b],arr2[c]])\n",
    "\n",
    "\n",
    "        contours = np.array([arr5[a],arr5[b],arr5[c]])\n",
    "        img_temp = np.zeros((img1.shape[0],img1.shape[1],3) ) \n",
    "        cv2.fillPoly(img_temp, pts =[contours], color=(1,1,1))\n",
    "        \n",
    "        img_1=np.zeros(img1.shape,dtype=np.uint8)\n",
    "        img_2=np.zeros(img2.shape,dtype=np.uint8)\n",
    "        \n",
    "        new_img1=np.zeros(img1.shape,dtype=np.uint8)\n",
    "        new_img2=np.zeros(img2.shape,dtype=np.uint8)\n",
    "        M = cv2.getAffineTransform(pts1, pts)\n",
    "        new_img1= cv2.warpAffine(img1, M, (img1.shape[1], img1.shape[0]))\n",
    "        M2 = cv2.getAffineTransform(pts2, pts)\n",
    "        new_img2= cv2.warpAffine(img2, M2, (img2.shape[1], img2.shape[0]))  \n",
    "        \n",
    "        img_temp=img_temp.astype(\"uint8\")\n",
    "        n_img=((100-100*alpha)*new_img1+100*alpha*new_img2)/100\n",
    "        n_img=n_img.astype(\"uint8\")\n",
    "        newimg1=newimg1*(1-img_temp)+(n_img*img_temp)\n",
    "        newimg1=newimg1.astype(\"uint8\")\n",
    "\n",
    "    return(newimg1[...,::-1])"
   ]
  },
  {
   "cell_type": "code",
   "execution_count": 105,
   "metadata": {},
   "outputs": [],
   "source": [
    "def usinginbuilt(numb):\n",
    "    giff=[]\n",
    "    ind=0.0\n",
    "    number=numb\n",
    "    while(ind<=1):\n",
    "        giff.append(fun(ind,img1,img2,arr1,arr2,arr_d))\n",
    "        ind=(number*ind+1)/number\n",
    "    return giff"
   ]
  },
  {
   "cell_type": "code",
   "execution_count": 106,
   "metadata": {},
   "outputs": [],
   "source": [
    "def usinginputtext(numb):\n",
    "    array1=[[0,0],[img1.shape[1],img1.shape[0]],[img1.shape[1],0],[0,img1.shape[0]]]\n",
    "    array2=[[0,0],[img2.shape[1],img2.shape[0]],[img2.shape[1],0],[0,img2.shape[0]]]\n",
    "    with open('input.txt','r') as file:    \n",
    "        for line in file:\n",
    "            i=0       \n",
    "            for word in line.split():\n",
    "                if(i==0 or i==2):\n",
    "                    temp=word\n",
    "                if(i==1):\n",
    "                    array1.append([int(temp),int(word)])\n",
    "                if(i==3):\n",
    "                    array2.append([int(temp),int(word)])\n",
    "                i=i+1\n",
    "    points=np.array(array1)\n",
    "    trian = Delaunay(points)\n",
    "    array_d=trian.simplices\n",
    "\n",
    "    giff1=[]\n",
    "    ind1=0.0\n",
    "    number1=numb\n",
    "    while(ind1<=1):\n",
    "        giff1.append(fun(ind1,img1,img2,array1,array2,array_d))\n",
    "        ind1=(number1*ind1+1)/number1\n",
    "    return giff1"
   ]
  },
  {
   "cell_type": "code",
   "execution_count": 107,
   "metadata": {},
   "outputs": [],
   "source": [
    "\n",
    "giff=usinginbuilt(100)\n",
    "with imageio.get_writer(\"morphinginbuilt.gif\",mode=\"I\") as writer:\n",
    "    for idx,frame in enumerate(giff):\n",
    "        writer.append_data(frame)\n",
    "        \n",
    "giff=usinginputtext(100)\n",
    "with imageio.get_writer(\"morphingusinginputfile.gif\",mode=\"I\") as writer:\n",
    "    for idx,frame in enumerate(giff):\n",
    "        writer.append_data(frame)\n",
    "\n"
   ]
  }
 ],
 "metadata": {
  "kernelspec": {
   "display_name": "dipp",
   "language": "python",
   "name": "python3"
  },
  "language_info": {
   "codemirror_mode": {
    "name": "ipython",
    "version": 3
   },
   "file_extension": ".py",
   "mimetype": "text/x-python",
   "name": "python",
   "nbconvert_exporter": "python",
   "pygments_lexer": "ipython3",
   "version": "3.8.16"
  },
  "orig_nbformat": 4,
  "vscode": {
   "interpreter": {
    "hash": "743b034b5c508d8575cd7dae72c5b3303653ad27e66e380b7933b84dcf2097ba"
   }
  }
 },
 "nbformat": 4,
 "nbformat_minor": 2
}
